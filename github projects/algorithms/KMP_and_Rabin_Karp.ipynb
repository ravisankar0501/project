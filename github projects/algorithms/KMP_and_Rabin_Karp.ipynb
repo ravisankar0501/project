{
  "nbformat": 4,
  "nbformat_minor": 0,
  "metadata": {
    "colab": {
      "provenance": []
    },
    "kernelspec": {
      "name": "python3",
      "display_name": "Python 3"
    },
    "language_info": {
      "name": "python"
    }
  },
  "cells": [
    {
      "cell_type": "code",
      "execution_count": 1,
      "metadata": {
        "id": "rx4H9NoCKbRy"
      },
      "outputs": [],
      "source": [
        "def compute_lps(pattern):\n",
        "    m = len(pattern)\n",
        "    lps = [0] * m\n",
        "    length = 0\n",
        "    i = 1\n",
        "\n",
        "    while i < m:\n",
        "        if pattern[i] == pattern[length]:\n",
        "            length += 1\n",
        "            lps[i] = length\n",
        "            i += 1\n",
        "        else:\n",
        "            if length != 0:\n",
        "                length = lps[length - 1]\n",
        "            else:\n",
        "                lps[i] = 0\n",
        "                i += 1\n",
        "    return lps"
      ]
    },
    {
      "cell_type": "code",
      "source": [
        "def kmp_search(text, pattern):\n",
        "    n = len(text)\n",
        "    m = len(pattern)\n",
        "    lps = compute_lps(pattern)\n",
        "    i, j = 0, 0\n",
        "\n",
        "    while i < n:\n",
        "        if pattern[j] == text[i]:\n",
        "            i += 1\n",
        "            j += 1\n",
        "\n",
        "            if j == m:\n",
        "                print(\"KMP: Pattern found at index:\", i - j)\n",
        "                j = lps[j - 1]\n",
        "        else:\n",
        "            if j != 0:\n",
        "                j = lps[j - 1]\n",
        "            else:\n",
        "                i += 1"
      ],
      "metadata": {
        "id": "uTX7QIOkKlGA"
      },
      "execution_count": 2,
      "outputs": []
    },
    {
      "cell_type": "code",
      "source": [
        "def rabin_karp_search(text, pattern):\n",
        "    n = len(text)\n",
        "    m = len(pattern)\n",
        "    d = 256  # Number of characters in the input alphabet\n",
        "    q = 101  # A prime number\n",
        "\n",
        "    p = t = 0\n",
        "    h = 1\n",
        "    for i in range(m - 1):\n",
        "        h = (h * d) % q\n",
        "    for i in range(m):\n",
        "        p = (d * p + ord(pattern[i])) % q\n",
        "        t = (d * t + ord(text[i])) % q\n",
        "\n",
        "    for i in range(n - m + 1):\n",
        "        if p == t:\n",
        "            for j in range(m):\n",
        "                if text[i + j] != pattern[j]:\n",
        "                    break\n",
        "            j += 1\n",
        "            if j == m:\n",
        "                print(\"Rabin-Karp: Pattern found at index:\", i)\n",
        "\n",
        "        if i < n - m:\n",
        "            t = (d * (t - ord(text[i]) * h) + ord(text[i + m])) % q\n",
        "            if t < 0:\n",
        "                t += q"
      ],
      "metadata": {
        "id": "rLjy-M_CKm8l"
      },
      "execution_count": 3,
      "outputs": []
    },
    {
      "cell_type": "code",
      "source": [
        "text = \"AABAACAADAABAAABAA\"\n",
        "pattern = \"AABA\"\n",
        "print(\"Text:\", text)\n",
        "print(\"Pattern:\", pattern)\n",
        "\n",
        "kmp_search(text, pattern)\n",
        "rabin_karp_search(text, pattern)\n",
        "\n"
      ],
      "metadata": {
        "colab": {
          "base_uri": "https://localhost:8080/"
        },
        "id": "62gPhW1NKcoW",
        "outputId": "7843dfe4-64b1-4613-e0ba-9748d396b7e5"
      },
      "execution_count": 4,
      "outputs": [
        {
          "output_type": "stream",
          "name": "stdout",
          "text": [
            "Text: AABAACAADAABAAABAA\n",
            "Pattern: AABA\n",
            "KMP: Pattern found at index: 0\n",
            "KMP: Pattern found at index: 9\n",
            "KMP: Pattern found at index: 13\n",
            "Rabin-Karp: Pattern found at index: 0\n",
            "Rabin-Karp: Pattern found at index: 9\n",
            "Rabin-Karp: Pattern found at index: 13\n"
          ]
        }
      ]
    }
  ]
}