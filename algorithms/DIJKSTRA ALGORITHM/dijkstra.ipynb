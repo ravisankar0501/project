{
  "nbformat": 4,
  "nbformat_minor": 0,
  "metadata": {
    "colab": {
      "provenance": []
    },
    "kernelspec": {
      "name": "python3",
      "display_name": "Python 3"
    },
    "language_info": {
      "name": "python"
    }
  },
  "cells": [
    {
      "cell_type": "code",
      "execution_count": 12,
      "metadata": {
        "id": "w-Jqf1pBGmIc"
      },
      "outputs": [],
      "source": [
        "import heapq"
      ]
    },
    {
      "cell_type": "code",
      "source": [
        "class Graph:\n",
        "    def __init__(self):\n",
        "        self.vertices = {}\n",
        "\n",
        "    def add_vertex(self, name):\n",
        "        self.vertices[name] = []\n",
        "\n",
        "    def add_edge(self, src, dest, weight):\n",
        "        self.vertices[src].append((dest, weight))\n",
        "        self.vertices[dest].append((src, weight))\n",
        "\n",
        "    def dijkstra(self, start):\n",
        "        distances = {vertex: float('infinity') for vertex in self.vertices}\n",
        "        distances[start] = 0\n",
        "\n",
        "        priority_queue = [(0, start)]\n",
        "\n",
        "        while priority_queue:\n",
        "            current_distance, current_vertex = heapq.heappop(priority_queue)\n",
        "\n",
        "            if current_distance > distances[current_vertex]:\n",
        "                continue\n",
        "\n",
        "            for neighbor, weight in self.vertices[current_vertex]:\n",
        "                distance = current_distance + weight\n",
        "\n",
        "                if distance < distances[neighbor]:\n",
        "                    distances[neighbor] = distance\n",
        "                    heapq.heappush(priority_queue, (distance, neighbor))\n",
        "\n",
        "        return distances"
      ],
      "metadata": {
        "id": "2jB0i85nG2Jn"
      },
      "execution_count": 13,
      "outputs": []
    },
    {
      "cell_type": "code",
      "source": [
        "graph = Graph()\n",
        "graph.add_vertex('A')\n",
        "graph.add_vertex('B')\n",
        "graph.add_vertex('C')\n",
        "graph.add_vertex('D')\n",
        "graph.add_vertex('E')"
      ],
      "metadata": {
        "id": "86xpUOgCGtBx"
      },
      "execution_count": 18,
      "outputs": []
    },
    {
      "cell_type": "code",
      "source": [
        "graph.add_edge('A', 'B', 4)\n",
        "graph.add_edge('A', 'C', 2)\n",
        "graph.add_edge('B', 'C', 5)\n",
        "graph.add_edge('B', 'D', 10)\n",
        "graph.add_edge('C', 'D', 3)\n",
        "graph.add_edge('C', 'E', 2)\n",
        "graph.add_edge('D', 'E', 6)"
      ],
      "metadata": {
        "id": "RImU9zr6HgKX"
      },
      "execution_count": 19,
      "outputs": []
    },
    {
      "cell_type": "code",
      "source": [
        "shortest_distances = graph.dijkstra('A')\n",
        "print(\"Shortest distances from vertex A:\")\n",
        "print(shortest_distances)"
      ],
      "metadata": {
        "colab": {
          "base_uri": "https://localhost:8080/"
        },
        "id": "Oo1YSN_THiZj",
        "outputId": "4de3b849-e525-4482-8417-cf50dd7a2996"
      },
      "execution_count": 20,
      "outputs": [
        {
          "output_type": "stream",
          "name": "stdout",
          "text": [
            "Shortest distances from vertex A:\n",
            "{'A': 0, 'B': 4, 'C': 2, 'D': 5, 'E': 4}\n"
          ]
        }
      ]
    }
  ]
}